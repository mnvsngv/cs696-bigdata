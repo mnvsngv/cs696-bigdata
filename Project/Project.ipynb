{
 "cells": [
  {
   "cell_type": "code",
   "execution_count": 1,
   "metadata": {},
   "outputs": [],
   "source": [
    "DATA_DIR = './f1-data'"
   ]
  },
  {
   "cell_type": "code",
   "execution_count": 2,
   "metadata": {},
   "outputs": [],
   "source": [
    "import pandas as pd\n",
    "import sklearn.linear_model\n",
    "import sklearn.svm\n",
    "import numpy as np\n",
    "import seaborn as sns\n",
    "import matplotlib.pyplot as plt\n",
    "import urllib.request\n",
    "import os\n",
    "import json\n",
    "import math\n",
    "\n",
    "from datetime import datetime\n",
    "from html.parser import HTMLParser\n",
    "from sklearn.cluster import KMeans\n",
    "from sklearn.cluster import SpectralClustering"
   ]
  },
  {
   "cell_type": "code",
   "execution_count": 3,
   "metadata": {},
   "outputs": [],
   "source": [
    "def plot_large():\n",
    "    plt.figure(figsize=(8, 5), dpi=200)\n",
    "\n",
    "sns.set()"
   ]
  },
  {
   "cell_type": "code",
   "execution_count": 4,
   "metadata": {},
   "outputs": [],
   "source": [
    "races = pd.read_csv(os.path.join(DATA_DIR, 'races.csv'))\n",
    "constructors = pd.read_csv(os.path.join(DATA_DIR, 'constructors.csv'))\n",
    "constructor_standings = pd.read_csv(os.path.join(DATA_DIR, 'constructorStandings.csv')).drop(columns=['Unnamed: 7'])\n",
    "results = pd.read_csv(os.path.join(DATA_DIR, 'results.csv'))\n",
    "circuits = pd.read_csv(os.path.join(DATA_DIR, 'circuits.csv'), encoding='ISO-8859-1')\n",
    "lap_times = pd.read_csv(os.path.join(DATA_DIR, 'lapTimes.csv'))\n",
    "drivers = pd.read_csv(os.path.join(DATA_DIR, 'drivers.csv'), encoding='ISO-8859-1')"
   ]
  },
  {
   "cell_type": "markdown",
   "metadata": {},
   "source": [
    "## Race Predictions\n",
    "Using a grid search on an SVR we can predict the race winner at different stages of the race. The preset values given below show the predictions for the 2011 European Grand Prix. The variables can be changed to different race ids to get predictions for different races, and the `race_percent` and `range_c` variables change the search space for the grid search."
   ]
  },
  {
   "cell_type": "code",
   "execution_count": 5,
   "metadata": {},
   "outputs": [],
   "source": [
    "race_id = 848\n",
    "race_percent = [0.2, 0.4, 0.6, 0.8]\n",
    "range_c = range(25, 1000, 25)"
   ]
  },
  {
   "cell_type": "code",
   "execution_count": 6,
   "metadata": {},
   "outputs": [],
   "source": [
    "driver_times = lap_times.groupby([lap_times.raceId, lap_times.driverId, lap_times.lap]).sum().reset_index()\n",
    "race_drivers = results[results.raceId == race_id][['driverId']]\n",
    "race_drivers = race_drivers.set_index('driverId').join(drivers.set_index('driverId'))\n",
    "race_drivers = race_drivers.reset_index()[['driverId', 'driverRef']]\n",
    "race_drivers = race_drivers.set_index('driverId').to_dict()['driverRef']"
   ]
  },
  {
   "cell_type": "code",
   "execution_count": null,
   "metadata": {},
   "outputs": [],
   "source": [
    "def create_and_score(c, percent):\n",
    "    total_laps = results[results.raceId == race_id].laps.max()\n",
    "    training_laps = math.floor(total_laps * percent)\n",
    "    classifier = sklearn.svm.SVR(kernel=\"rbf\", C=c, gamma='scale')\n",
    "    race_predictions = {'driver': [], 'milliseconds': []}\n",
    "    for driver in race_drivers.keys():\n",
    "        X = driver_times[(driver_times.raceId == race_id) & (driver_times.driverId == driver)]\n",
    "        X_train = X[X.lap.isin(range(1, training_laps))]['lap'].values.reshape(-1, 1)\n",
    "        y_train = X[X.lap.isin(range(1, training_laps))]['milliseconds']\n",
    "        X_test = X[X.lap.isin(range(training_laps, total_laps))]['lap'].values.reshape(-1, 1)\n",
    "\n",
    "        if len(X_test) <= total_laps - training_laps - 3:\n",
    "            continue\n",
    "\n",
    "        classifier.fit(X_train, y_train)\n",
    "        race_predictions['driver'].append(driver)\n",
    "        race_predictions['milliseconds'].append(classifier.predict(X_test[-1].reshape(-1, 1))[0])\n",
    "\n",
    "    def custom_scorer_function():\n",
    "        predictions_df = pd.DataFrame(race_predictions)\n",
    "        predictions_df = predictions_df.sort_values(by='milliseconds')\n",
    "        results_df = results[results.raceId == race_id].sort_values('position')\n",
    "        scoring_df = {'driver_pred': [], 'driver_true': [], 'error': []}\n",
    "        \n",
    "        for driver in predictions_df.driver:\n",
    "            prediction = predictions_df[predictions_df.driver == driver].index[0]\n",
    "            prediction = predictions_df.index.get_loc(prediction) + 1\n",
    "            driver_true = results_df[results_df.driverId == driver].position.values[0]\n",
    "            error = abs(prediction - driver_true)\n",
    "            \n",
    "            try:\n",
    "                scoring_df['driver_true'].append(results_df.iloc[prediction-1].driverId)\n",
    "                scoring_df['driver_pred'].append(driver)\n",
    "                scoring_df['error'].append(error)\n",
    "            except:\n",
    "                continue\n",
    "        scoring_df = pd.DataFrame(scoring_df)\n",
    "        return scoring_df\n",
    "\n",
    "    scoring_df = custom_scorer_function()\n",
    "    return (classifier, scoring_df)"
   ]
  },
  {
   "cell_type": "code",
   "execution_count": null,
   "metadata": {},
   "outputs": [
    {
     "name": "stdout",
     "output_type": "stream",
     "text": [
      "Scoring model at 20.0% of the race, C-value progress:\n",
      "25, 50, 75, 100, 125, 150, 175, 200, 225, 250, 275, 300, 325, 350, 375, 400, 425, 450, 475, 500, 525, 550, 575, 600, 625, 650, 675, 700, 725, 750, 775, 800, 825, 850, 875, 900, 925, 950, 975, DONE!!!\n",
      "Scoring model at 40.0% of the race, C-value progress:\n",
      "25, 50, 75, 100, 125, 150, 175, 200, 225, 250, 275, 300, 325, 350, 375, 400, 425, 450, 475, 500, 525, 550, 575, 600, 625, 650, 675, 700, 725, 750, 775, 800, 825, 850, 875, 900, 925, 950, 975, DONE!!!\n",
      "Scoring model at 60.0% of the race, C-value progress:\n",
      "25, 50, 75, 100, 125, 150, 175, 200, 225, 250, 275, 300, 325, 350, 375, 400, 425, 450, 475, 500, 525, 550, 575, 600, 625, 650, 675, 700, 725, 750, 775, 800, 825, 850, 875, 900, 925, 950, 975, DONE!!!\n",
      "Scoring model at 80.0% of the race, C-value progress:\n",
      "25, 50, 75, 100, 125, 150, 175, 200, 225, 250, 275, 300, "
     ]
    }
   ],
   "source": [
    "error_dict = {'c': [], 'error': [], 'race_percent': []}\n",
    "for percent in race_percent:\n",
    "    print(\"Scoring model at {}% of the race, C-value progress:\".format(percent*100))\n",
    "    for c in range_c:\n",
    "        print(\"{},\".format(c), end=\" \")\n",
    "        classifier, scoring_df = create_and_score(c, percent)\n",
    "        error_dict['error'].append(scoring_df.error.sum())\n",
    "        error_dict['c'].append(c)\n",
    "        error_dict['race_percent'].append(str(percent))\n",
    "    print('DONE!!!')\n",
    "\n",
    "plot_large()\n",
    "sns.lineplot(x=error_dict['c'], y=error_dict['error'], hue=error_dict['race_percent'],\n",
    "            palette=sns.color_palette('Dark2', len(race_percent)))\n",
    "plt.legend(title='Race Percentage');"
   ]
  },
  {
   "cell_type": "code",
   "execution_count": null,
   "metadata": {},
   "outputs": [],
   "source": [
    "error_df = pd.DataFrame(error_dict)\n",
    "best_predictions = error_df.sort_values('error').iloc[0]\n",
    "\n",
    "c = best_predictions['c']\n",
    "percent = float(best_predictions['race_percent'])\n",
    "classifier, scoring_df = create_and_score(c, percent)\n",
    "scoring_df['driver_pred'] = scoring_df['driver_pred'].replace(race_drivers)\n",
    "scoring_df['driver_true'] = scoring_df['driver_true'].replace(race_drivers)\n",
    "gp = races[races.raceId == race_id].name.values[0]\n",
    "year = races[races.raceId == race_id].year.values[0]\n",
    "print(\"{} {}\".format(year, gp))\n",
    "scoring_df"
   ]
  },
  {
   "cell_type": "markdown",
   "metadata": {},
   "source": [
    "## Constructor classification\n",
    "By checking the points tally for constructors at the end of a season, we can classify them into front runners, midfield, and backmarkers."
   ]
  },
  {
   "cell_type": "code",
   "execution_count": null,
   "metadata": {},
   "outputs": [],
   "source": [
    "season = 1960\n",
    "\n",
    "season_races = races[races['year'] == season]\n",
    "features = constructor_standings[constructor_standings.raceId == season_races.raceId.max()]\n",
    "features = features[['position', 'points', 'constructorId']]\n",
    "features['constructor'] = [constructors[constructors.constructorId == x].name.values[0] for x in features['constructorId']]\n",
    "\n",
    "num_buckets = 3\n",
    "\n",
    "kmeans = KMeans(n_clusters=num_buckets)\n",
    "kmeans.fit_predict(features[['position', 'points']])\n",
    "features['bucket'] = kmeans.labels_\n",
    "features = features.sort_values(by='position')\n",
    "\n",
    "plot_large()\n",
    "sns.scatterplot(x='constructor', y='points', hue='bucket', data=features,\n",
    "                palette=sns.color_palette('Dark2', num_buckets))\n",
    "plt.xticks(rotation=-45);"
   ]
  },
  {
   "cell_type": "markdown",
   "metadata": {},
   "source": [
    "## F1 over the years\n",
    "We can compare the lap times of Monaco over the years to see how F1 has gotten faster over the past few decades."
   ]
  },
  {
   "cell_type": "code",
   "execution_count": null,
   "metadata": {},
   "outputs": [],
   "source": [
    "base_url = 'https://en.wikipedia.org/wiki/{}_Monaco_Grand_Prix'\n",
    "pole_string = '<a href=\"/wiki/Pole_position\" title=\"Pole position\">Pole position</a>'\n",
    "fastest_time_start = '<tr><th scope=\"row\" style=\"width:20%;\">Time</th><td colspan=\"3\">'\n",
    "fastest_time_end = '</td></tr>'\n",
    "reference_str = '<sup id=\"cite_ref'\n",
    "save_path = './f1-data/monacoTimes.csv'\n",
    "\n",
    "monaco_df = pd.DataFrame(columns=['year', 'lapTimeMillis'])\n",
    "\n",
    "def datetime_to_millis(dt):\n",
    "    return (dt.minute * 60 * 1000) + (dt.second * 1000) + (dt.microsecond / 1000)\n",
    "\n",
    "if os.path.exists(save_path):\n",
    "    print(\"Using cached Monaco lap times!\")\n",
    "    monaco_df = pd.read_csv(save_path)\n",
    "else:\n",
    "    years = range(1955, 2018)\n",
    "    parser = HTMLParser()\n",
    "    print(\"Downloading data...\")\n",
    "    for year in years:\n",
    "        print(year, end=\", \")\n",
    "        url = base_url.format(year)\n",
    "        contents = str(urllib.request.urlopen(url).read())\n",
    "        pole_index = contents.find(pole_string)\n",
    "        start_index = contents.find(fastest_time_start, pole_index) + len(fastest_time_start) + 2\n",
    "        end_index = contents.find(fastest_time_end, start_index)\n",
    "        time = contents[start_index:end_index]\n",
    "\n",
    "        if 'reference' in time:\n",
    "            ref_index = contents.find(reference_str, start_index)\n",
    "            time = contents[start_index:ref_index]\n",
    "\n",
    "        if '(aggregate)' in time:\n",
    "            ref_index = contents.find(' (aggregate)', start_index)\n",
    "            time = contents[start_index:ref_index]\n",
    "\n",
    "        try:\n",
    "            timestamp = datetime.strptime(time, \"%M:%S.%f\")\n",
    "        except:\n",
    "            timestamp = datetime.strptime(time, \"%M.%S.%f\")\n",
    "        monaco_df = monaco_df.append({'year': year, 'lapTimeMillis': datetime_to_millis(timestamp)}, ignore_index=True)\n",
    "\n",
    "    print(\"DONE!\")\n",
    "    monaco_df.to_csv(save_path)"
   ]
  },
  {
   "cell_type": "code",
   "execution_count": null,
   "metadata": {},
   "outputs": [],
   "source": [
    "plot_large()\n",
    "sns.lineplot(x='year', y='lapTimeMillis', data=monaco_df)"
   ]
  },
  {
   "cell_type": "markdown",
   "metadata": {},
   "source": [
    "## Circuit difficulty\n",
    "By getting the percentage of drivers who did not finish a race, we can estimate the difficulty of a circuit."
   ]
  },
  {
   "cell_type": "code",
   "execution_count": null,
   "metadata": {},
   "outputs": [],
   "source": [
    "circuits_in_years = races.circuitId.unique()\n",
    "\n",
    "save_path = './f1-data/circuitsGood.csv'\n",
    "\n",
    "if os.path.exists(save_path):\n",
    "    print(\"Using cached circuit data!\")\n",
    "    circuits_good = pd.read_csv(save_path)\n",
    "else:\n",
    "    print(\"Downloading data...\")\n",
    "    good_data = urllib.request.urlopen('http://ergast.com/api/f1/circuits.json?limit=100').read().decode('utf-8')\n",
    "    better_data = json.loads(good_data)\n",
    "    circuits_good = pd.DataFrame(better_data['MRData']['CircuitTable']['Circuits'])\n",
    "    circuits_good.to_csv(save_path)\n",
    "\n",
    "circuit_data = {'circuit': [], 'difficulty': []}\n",
    "for circuitId in circuits_in_years:\n",
    "    circuit_races = races[races.circuitId == circuitId]\n",
    "    num_invalid = len(results[(results.raceId.isin(circuit_races.raceId)) & (results.position.isna())])\n",
    "    total = len(results[(results.raceId.isin(circuit_races.raceId))])\n",
    "    circuit_ref = circuits[circuits.circuitId == circuitId].circuitRef.values[0]\n",
    "    circuit_name = circuits_good[circuits_good.circuitId == circuit_ref].circuitName.values[0]\n",
    "    percent_invalid = num_invalid * 100 / total\n",
    "    if total > 200:\n",
    "        circuit_data['circuit'].append(circuit_name)\n",
    "        circuit_data['difficulty'].append(percent_invalid)\n",
    "\n",
    "circuit_difficulty_df = pd.DataFrame.from_dict(circuit_data).sort_values(by='difficulty', ascending=False)\n",
    "\n",
    "num_buckets = 6\n",
    "\n",
    "clustering_model = sklearn.cluster.SpectralClustering(n_clusters=num_buckets)\n",
    "clustering_model.fit_predict(circuit_difficulty_df['difficulty'].values.reshape(-1, 1))\n",
    "circuit_difficulty_df['bucket'] = clustering_model.labels_.astype(str)\n",
    "\n",
    "plt.figure(figsize=(5, 10), dpi=200)\n",
    "sns.scatterplot(y='circuit', x='difficulty', hue='bucket', data=circuit_difficulty_df,\n",
    "                palette=sns.color_palette('Dark2', num_buckets));"
   ]
  }
 ],
 "metadata": {
  "kernelspec": {
   "display_name": "Python 3",
   "language": "python",
   "name": "python3"
  },
  "language_info": {
   "codemirror_mode": {
    "name": "ipython",
    "version": 3
   },
   "file_extension": ".py",
   "mimetype": "text/x-python",
   "name": "python",
   "nbconvert_exporter": "python",
   "pygments_lexer": "ipython3",
   "version": "3.6.5"
  }
 },
 "nbformat": 4,
 "nbformat_minor": 2
}
