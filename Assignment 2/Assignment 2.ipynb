{
 "cells": [
  {
   "cell_type": "markdown",
   "metadata": {},
   "source": [
    "# CS696 Assignment 2"
   ]
  },
  {
   "cell_type": "markdown",
   "metadata": {},
   "source": [
    "## CSV File Paths"
   ]
  },
  {
   "cell_type": "code",
   "execution_count": 1,
   "metadata": {},
   "outputs": [],
   "source": [
    "VEHICLES_CSV_PATH = './vehicles.csv'\n",
    "CAUSES_OF_DEATH_CSV_PATH = './causes_of_death.csv'\n",
    "FRAMINGHAM_CSV_PATH = './framingham.csv'"
   ]
  },
  {
   "cell_type": "markdown",
   "metadata": {},
   "source": [
    "## Imports and Function Definitions"
   ]
  },
  {
   "cell_type": "code",
   "execution_count": 2,
   "metadata": {},
   "outputs": [],
   "source": [
    "import pandas as pd\n",
    "import matplotlib.pyplot as plt\n",
    "import seaborn as sns\n",
    "import numpy as np\n",
    "from scipy.stats import sem, t\n",
    "from scipy import mean\n",
    "sns.set()"
   ]
  },
  {
   "cell_type": "code",
   "execution_count": 3,
   "metadata": {},
   "outputs": [],
   "source": [
    "dpi = 200\n",
    "def plot_small():\n",
    "    plt.figure(figsize=(5,3), dpi=dpi)\n",
    "    \n",
    "def plot_large():\n",
    "    plt.figure(figsize=(8,5), dpi=dpi)\n",
    "\n",
    "def plot_extra_large():\n",
    "    plt.figure(figsize=(14,8), dpi=dpi)\n",
    "\n",
    "def plot_extra_large_portrait():\n",
    "    plt.figure(figsize=(8,14), dpi=dpi)\n",
    "\n",
    "def calculate_ci(data, confidence=0.95, print_results=False):\n",
    "    confidence = 0.95\n",
    "\n",
    "    num_samples = len(data)\n",
    "    mean_value = mean(data)\n",
    "    std_err = sem(data)\n",
    "    deviation = std_err * t.ppf((1 + confidence) / 2, num_samples - 1)\n",
    "\n",
    "    start = mean_value - deviation\n",
    "    end = mean_value + deviation\n",
    "    if print_results:\n",
    "        print(\"{}% Confidence Interval: {} - {}\".format(confidence*100, start, end))\n",
    "    return (start, end)"
   ]
  },
  {
   "cell_type": "markdown",
   "metadata": {},
   "source": [
    "## Issue 1 - Auto Fuel Economy\n",
    "We'll create some variables and dataframes that we'll use for the questions in issue 1."
   ]
  },
  {
   "cell_type": "code",
   "execution_count": 4,
   "metadata": {},
   "outputs": [
    {
     "name": "stderr",
     "output_type": "stream",
     "text": [
      "/usr/local/lib/python3.6/site-packages/IPython/core/interactiveshell.py:2705: DtypeWarning: Columns (73,74,76) have mixed types. Specify dtype option on import or set low_memory=False.\n",
      "  interactivity=interactivity, compiler=compiler, result=result)\n"
     ]
    }
   ],
   "source": [
    "auto_df = pd.read_csv(VEHICLES_CSV_PATH)\n",
    "brands = {\n",
    "    'General Motors': ['General Motors', 'Chevrolot', 'Cadillac', 'GMC'],\n",
    "    'Ford': ['Ford', 'Lincoln'],\n",
    "    'Chrysler': ['Chrylser', 'Dodge', 'Jeep', 'Ram'],\n",
    "    'Toyota': ['Toyota', 'Daihatsu', 'Lexus', 'Subaru'],\n",
    "    'Honda': ['Honda', 'Acura'],\n",
    "}\n",
    "brand_makes = list(brands.keys())\n",
    "fuel_types = ['Midgrade Gasoline', 'Regular Gasoline', 'Premium Gasoline']\n",
    "auto_df = auto_df.loc[auto_df['year'].isin(range(2000,2020)) & auto_df['fuelType1'].isin(fuel_types)]"
   ]
  },
  {
   "cell_type": "code",
   "execution_count": null,
   "metadata": {},
   "outputs": [],
   "source": [
    "new_df = []\n",
    "for make in brand_makes:\n",
    "    temp_df = auto_df[auto_df['make'].isin(brands[make])]\n",
    "    new_df.append(temp_df.replace(brands[make], make))\n",
    "new_df = pd.concat(new_df)  # TODO use this instead of auto_df"
   ]
  },
  {
   "cell_type": "markdown",
   "metadata": {},
   "source": [
    "### Question 1: Box plots for combined MPG for all cars sold by each brand (2000 - 2019)"
   ]
  },
  {
   "cell_type": "markdown",
   "metadata": {},
   "source": [
    "#### MPG per year for each company"
   ]
  },
  {
   "cell_type": "code",
   "execution_count": null,
   "metadata": {},
   "outputs": [],
   "source": [
    "plot_extra_large()\n",
    "ax = sns.boxplot(x='make', y='comb08', hue='year', data=new_df)\n",
    "ax.legend_.remove()\n",
    "# plt.xticks(rotation=-90)\n",
    "plt.xlabel('Company')\n",
    "plt.ylabel('Combined MPG')\n",
    "plt.title('MPGs for each company, per year from 2000 to 2019');\n",
    "# TODO verify that you're using the right columns (like comb08)"
   ]
  },
  {
   "cell_type": "markdown",
   "metadata": {},
   "source": [
    "#### MPG per company for each year"
   ]
  },
  {
   "cell_type": "code",
   "execution_count": null,
   "metadata": {
    "scrolled": true
   },
   "outputs": [],
   "source": [
    "plot_extra_large_portrait()\n",
    "ax = sns.boxplot(x='comb08', y='year', hue='make', data=new_df, orient='h')\n",
    "ax.xaxis.tick_top()\n",
    "plt.xlabel('Combined MPG')\n",
    "plt.ylabel('Year')\n",
    "plt.title('MPGs for each year, per company from 2000 to 2019');"
   ]
  },
  {
   "cell_type": "markdown",
   "metadata": {},
   "source": [
    "### Question 2: Average combined MPG for all cars sold by each brand (2000 - 2019)"
   ]
  },
  {
   "cell_type": "code",
   "execution_count": null,
   "metadata": {
    "scrolled": false
   },
   "outputs": [],
   "source": [
    "plot_large()\n",
    "for make in brand_makes:\n",
    "    sns.lineplot(x='year', y='comb08', data=auto_df[auto_df['make'].isin(brands[make])], label=make)\n",
    "plt.xlabel('Year')\n",
    "plt.ylabel('Combined MPG')\n",
    "plt.title(make);\n",
    "# TODO see why the CI is so huge, looks wrong"
   ]
  },
  {
   "cell_type": "markdown",
   "metadata": {},
   "source": [
    "### Question 3: Max combined MPG for each brand per year (2000 - 2019)"
   ]
  },
  {
   "cell_type": "code",
   "execution_count": null,
   "metadata": {
    "scrolled": false
   },
   "outputs": [],
   "source": [
    "prob1c_df = auto_df.groupby(['make', 'year'])['comb08'].max().reset_index()\n",
    "max_mpgs = []\n",
    "for make in brand_makes:               # To do this, we're going to go brand by brand...\n",
    "    max_mpgs.append(                   # and we're going to append into the list...\n",
    "        prob1c_df[                     # values from our data of max mpgs per make per year...\n",
    "            prob1c_df['make']          # by taking values from the 'make' column...\n",
    "            .isin(brands[make])        # and seeing if they're part of the brand we want...\n",
    "        ].groupby('year').max()        # then grouping these by year and then taking the max value...\n",
    "        .reset_index()                 # after which we reset the index to remove the hierarchical indexing...\n",
    "        .replace(brands[make], make))  # and finally we replace the subsidiaries with the brand name! Phew.\n",
    "\n",
    "max_mpgs_df = pd.concat(max_mpgs)\n",
    "plot_large()\n",
    "sns.lineplot(x='year', y='comb08', hue='make', data=max_mpgs_df)\n",
    "plt.xticks(range(2000, 2019, 2))\n",
    "plt.xlabel('Year')\n",
    "plt.ylabel('Combined MPG')\n",
    "plt.title('Max MPG per brand, per year');"
   ]
  },
  {
   "cell_type": "markdown",
   "metadata": {},
   "source": [
    "## Issue 2 - Diet and Death\n",
    "Once again we'll read in CSV files and create some dataframes for problems in issue 2."
   ]
  },
  {
   "cell_type": "code",
   "execution_count": null,
   "metadata": {},
   "outputs": [],
   "source": [
    "cod_df = pd.read_csv(CAUSES_OF_DEATH_CSV_PATH)\n",
    "framingham_df = pd.read_csv(FRAMINGHAM_CSV_PATH)"
   ]
  },
  {
   "cell_type": "markdown",
   "metadata": {},
   "source": [
    "#### Plot of death rate for each disease over the years"
   ]
  },
  {
   "cell_type": "code",
   "execution_count": null,
   "metadata": {},
   "outputs": [],
   "source": [
    "plot_large()\n",
    "sns.lineplot(x=\"Year\", y=\"Age Adjusted Death Rate\", hue=\"Cause\", data=cod_df);"
   ]
  },
  {
   "cell_type": "markdown",
   "metadata": {},
   "source": [
    "### Question 4: Percentage of people with Diabetes, as per Framingham"
   ]
  },
  {
   "cell_type": "code",
   "execution_count": null,
   "metadata": {},
   "outputs": [],
   "source": [
    "percentages = framingham_df['DIABETES'].value_counts(normalize=True) * 100\n",
    "print(\"Percentage: {}%\".format(percentages[1]))"
   ]
  },
  {
   "cell_type": "markdown",
   "metadata": {},
   "source": [
    "### Question 5: Histogram of random samples"
   ]
  },
  {
   "cell_type": "code",
   "execution_count": null,
   "metadata": {},
   "outputs": [],
   "source": [
    "# Variables\n",
    "random_samples = []\n",
    "sample_size = 5000\n",
    "cdc_diabetes_prevalance = 0.93\n",
    "num_samples = 200\n",
    "probabilities = [cdc_diabetes_prevalance, 1 - cdc_diabetes_prevalance]\n",
    "\n",
    "# Generating random samples\n",
    "for i in range(num_samples):\n",
    "    random_samples.append(np.random.multinomial(sample_size, probabilities))\n",
    "random_samples_df = pd.DataFrame(random_samples)\n",
    "\n",
    "# Plotting histogram\n",
    "plot_large()\n",
    "sns.distplot(random_samples_df[1])\n",
    "plt.title('Histogram of random samples')\n",
    "plt.xlabel('Cholesterol value')\n",
    "plt.ylabel('Percentage of people');"
   ]
  },
  {
   "cell_type": "markdown",
   "metadata": {},
   "source": [
    "### Question 6: 95% Confidence Interval for samples computed in Question 5"
   ]
  },
  {
   "cell_type": "code",
   "execution_count": null,
   "metadata": {},
   "outputs": [],
   "source": [
    "calculate_ci(random_samples_df[1], print_results=True);"
   ]
  },
  {
   "cell_type": "markdown",
   "metadata": {},
   "source": [
    "### Question 7: Is the study representative of the general population?\n",
    "The CDC stated that the prevelance of diabetes at the time of the study was 0.93%. However, from the above calculations (specifically from Question 4) we can see that the percentage of people with diabetes in the study is **2.73%**.\n",
    "\n",
    "Clearly the proportion of diabetic people in the study is more than the proportion of diabetic people in the general population by quite a large margin (nearly 2.7 times more diabetics in the study than in the general population). For that reason the study may not be representative of the general population."
   ]
  },
  {
   "cell_type": "markdown",
   "metadata": {},
   "source": [
    "### Question 8: Plot of cholesterol values of people in Framingham Study with heart disease vs. people without"
   ]
  },
  {
   "cell_type": "code",
   "execution_count": null,
   "metadata": {},
   "outputs": [],
   "source": [
    "plot_large()\n",
    "sns.boxplot(x='ANYCHD', y='TOTCHOL', data=framingham_df)\n",
    "plt.title('Cholesterol of people with heart disease vs. people without')\n",
    "plt.xticks(range(2), ['Without heart disease', 'With heart disease'])\n",
    "plt.xlabel('')\n",
    "plt.ylabel('Cholesterol value');"
   ]
  },
  {
   "cell_type": "markdown",
   "metadata": {},
   "source": [
    "### Question 9: 95% Confidence Interval of cholesterol for people in Framingham Study with heart disease vs. people without"
   ]
  },
  {
   "cell_type": "code",
   "execution_count": null,
   "metadata": {},
   "outputs": [],
   "source": [
    "print(\"Cholesterol CI for people with heart disease:\")\n",
    "calculate_ci(framingham_df.query('ANYCHD == 1')['TOTCHOL'].values, print_results=True)\n",
    "print(\"Cholesterol CI for people without heart disease:\")\n",
    "calculate_ci(framingham_df.query('ANYCHD == 0')['TOTCHOL'].values, print_results=True);"
   ]
  },
  {
   "cell_type": "markdown",
   "metadata": {},
   "source": [
    "### Question 10: Comments on the correlation between cholesterol values and heart disease\n",
    "Looking at the plot from question 8 and the results of question 9, one can say that people with heart disease are likelier to have higher cholesterol values than people without heart disease."
   ]
  }
 ],
 "metadata": {
  "kernelspec": {
   "display_name": "Python 3",
   "language": "python",
   "name": "python3"
  },
  "language_info": {
   "codemirror_mode": {
    "name": "ipython",
    "version": 3
   },
   "file_extension": ".py",
   "mimetype": "text/x-python",
   "name": "python",
   "nbconvert_exporter": "python",
   "pygments_lexer": "ipython3",
   "version": "3.6.5"
  }
 },
 "nbformat": 4,
 "nbformat_minor": 2
}
