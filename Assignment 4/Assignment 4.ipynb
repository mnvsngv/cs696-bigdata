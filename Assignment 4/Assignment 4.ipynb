{
 "cells": [
  {
   "cell_type": "code",
   "execution_count": 16,
   "metadata": {},
   "outputs": [],
   "source": [
    "def run_on_aws(input_file, output_dir, spark_session):\n",
    "    \"\"\"Start of the PySpark code to run on AWS\n",
    "    \"\"\"\n",
    "\n",
    "    import os\n",
    "    import math\n",
    "    import pyspark.sql.functions as F\n",
    "\n",
    "    from pyspark.sql.types import StructType\n",
    "    from pyspark.sql.types import StringType\n",
    "    from pyspark.sql.types import DateType\n",
    "    from pyspark.sql.types import IntegerType\n",
    "    from pyspark.sql.types import FloatType\n",
    "    from pyspark.sql.types import LongType\n",
    "    from pyspark.sql.window import Window\n",
    "    from pyspark.ml.feature import Bucketizer\n",
    "\n",
    "    schema = StructType() \\\n",
    "            .add('CMTE_ID', StringType()) \\\n",
    "            .add('AMNDT_IND', StringType()) \\\n",
    "            .add('RPT_TP', StringType()) \\\n",
    "            .add('TRANSACTION_PGI', StringType()) \\\n",
    "            .add('IMAGE_NUM', StringType()) \\\n",
    "            .add('TRANSACTION_TP', StringType()) \\\n",
    "            .add('ENTITY_TP', StringType()) \\\n",
    "            .add('NAME', StringType()) \\\n",
    "            .add('CITY', StringType()) \\\n",
    "            .add('STATE', StringType()) \\\n",
    "            .add('ZIP_CODE', StringType()) \\\n",
    "            .add('EMPLOYER', StringType()) \\\n",
    "            .add('OCCUPATION', StringType()) \\\n",
    "            .add('TRANSACTION_DT', StringType()) \\\n",
    "            .add('TRANSACTION_AMT', FloatType()) \\\n",
    "            .add('OTHER_ID', StringType()) \\\n",
    "            .add('TRAN_ID', StringType()) \\\n",
    "            .add('FILE_NUM', IntegerType()) \\\n",
    "            .add('MEMO_CD', StringType()) \\\n",
    "            .add('MEMO_TEXT', StringType()) \\\n",
    "            .add('SUB_ID', LongType()) \\\n",
    "    \n",
    "    campaign_ids = {'C00575795': 'HILLARY FOR AMERICA',\n",
    "                    'C00577130': 'BERNIE 2016',\n",
    "                    'C00580100': 'DONALD J. TRUMP FOR PRESIDENT, INC'}\n",
    "\n",
    "    df = spark_session.read.csv(input_file, schema=schema, sep='|')\n",
    "    # Convert date string to Date Type\n",
    "    df = df.withColumn(\"TRANSACTION_DT\", F.to_date(df[\"TRANSACTION_DT\"],\"mmddyyyy\"))\n",
    "    df = df.select(\"*\") \\\n",
    "            .where(df['CMTE_ID'].isin(list(campaign_ids.keys()))) \\\n",
    "    \n",
    "\n",
    "    # Problem 1: Number of donations for each campaign\n",
    "    df.select(['CMTE_ID', 'TRANSACTION_AMT']) \\\n",
    "        .groupby(df['CMTE_ID']) \\\n",
    "        .count() \\\n",
    "        .coalesce(1) \\\n",
    "        .write.format('csv').save(os.path.join(output_dir, 'problem_1'))\n",
    "\n",
    "    # Problem 2: Total amount of donations for each campaign\n",
    "    df.select(['CMTE_ID', 'TRANSACTION_AMT']) \\\n",
    "        .groupby(df['CMTE_ID']) \\\n",
    "        .sum() \\\n",
    "        .coalesce(1) \\\n",
    "        .write.format('csv').save(os.path.join(output_dir, 'problem_2'))\n",
    "\n",
    "    # Problem 3: Percentage of small contributors for each campaign\n",
    "    # TODO What if someone donates small amounts multiple times, then goes over the limit?\n",
    "    df.select(['CMTE_ID', 'TRANSACTION_AMT']) \\\n",
    "        .groupby(df['CMTE_ID'], df['ENTITY_TP']) \\\n",
    "        .sum() \\\n",
    "        .withColumn('percent',\n",
    "                    F.col('sum(TRANSACTION_AMT)')*100/F.sum('sum(TRANSACTION_AMT)')\n",
    "                        .over(Window.partitionBy())\n",
    "                   ) \\\n",
    "        .coalesce(1) \\\n",
    "        .write.format('csv').save(os.path.join(output_dir, 'problem_3'))\n",
    "\n",
    "    # Problem 4: Histogram data for each campaign\n",
    "    max_val = int(df.select(F.max(df['TRANSACTION_AMT']).alias('MAX')).collect()[0].MAX)\n",
    "    max_exp = int(math.ceil(math.log10(max_val)))\n",
    "    split_list = [10**i for i in range(0, max_exp+1)]\n",
    "    print(split_list)\n",
    "    \n",
    "    query = df.select(['CMTE_ID', 'TRANSACTION_AMT']) \\\n",
    "        .where(df['CMTE_ID'].isin(list(campaign_ids.keys()))) \\\n",
    "        .where(df['TRANSACTION_AMT'] > 0)\n",
    "    \n",
    "    schema = StructType() \\\n",
    "                .add(\"CMTE_ID\", StringType()) \\\n",
    "                .add(\"TRANSACTION_AMT\", FloatType()) \\\n",
    "                .add(\"buckets\", FloatType())\n",
    "    df_bucketed = spark_session.createDataFrame([], schema)\n",
    "\n",
    "    for campaign_id in campaign_ids.keys():\n",
    "        bucketizer = Bucketizer(splits=split_list, inputCol=\"TRANSACTION_AMT\", outputCol=\"buckets\")\n",
    "        df_to_append = bucketizer.transform(query.where(query['CMTE_ID'] == campaign_id))\n",
    "        df_bucketed = df_bucketed.union(df_to_append)\n",
    "    \n",
    "    df_bucketed.groupby(['CMTE_ID', 'buckets']) \\\n",
    "                .count() \\\n",
    "                .sort(['CMTE_ID', 'buckets']) \\\n",
    "                .coalesce(1) \\\n",
    "                .write.format('csv').save(os.path.join(output_dir, 'problem_4'))"
   ]
  },
  {
   "cell_type": "code",
   "execution_count": 17,
   "metadata": {
    "scrolled": true
   },
   "outputs": [
    {
     "name": "stdout",
     "output_type": "stream",
     "text": [
      "[1, 10, 100, 1000, 10000]\n"
     ]
    }
   ],
   "source": [
    "run_on_aws('/Users/mnvsngv/Downloads/data.txt', './results', spark)"
   ]
  },
  {
   "cell_type": "code",
   "execution_count": 5,
   "metadata": {},
   "outputs": [],
   "source": [
    "import pandas as pd\n",
    "import seaborn as sns\n",
    "import matplotlib as plt"
   ]
  },
  {
   "cell_type": "code",
   "execution_count": 19,
   "metadata": {},
   "outputs": [
    {
     "data": {
      "text/html": [
       "<div>\n",
       "<style scoped>\n",
       "    .dataframe tbody tr th:only-of-type {\n",
       "        vertical-align: middle;\n",
       "    }\n",
       "\n",
       "    .dataframe tbody tr th {\n",
       "        vertical-align: top;\n",
       "    }\n",
       "\n",
       "    .dataframe thead th {\n",
       "        text-align: right;\n",
       "    }\n",
       "</style>\n",
       "<table border=\"1\" class=\"dataframe\">\n",
       "  <thead>\n",
       "    <tr style=\"text-align: right;\">\n",
       "      <th></th>\n",
       "      <th>0</th>\n",
       "      <th>1</th>\n",
       "    </tr>\n",
       "  </thead>\n",
       "  <tbody>\n",
       "    <tr>\n",
       "      <th>0</th>\n",
       "      <td>C00577130</td>\n",
       "      <td>1532260</td>\n",
       "    </tr>\n",
       "    <tr>\n",
       "      <th>1</th>\n",
       "      <td>C00575795</td>\n",
       "      <td>2516367</td>\n",
       "    </tr>\n",
       "    <tr>\n",
       "      <th>2</th>\n",
       "      <td>C00580100</td>\n",
       "      <td>134065</td>\n",
       "    </tr>\n",
       "  </tbody>\n",
       "</table>\n",
       "</div>"
      ],
      "text/plain": [
       "           0        1\n",
       "0  C00577130  1532260\n",
       "1  C00575795  2516367\n",
       "2  C00580100   134065"
      ]
     },
     "execution_count": 19,
     "metadata": {},
     "output_type": "execute_result"
    }
   ],
   "source": [
    "problem1_df = pd.read_csv('./1.csv', header=None)\n",
    "problem1_df.head()"
   ]
  },
  {
   "cell_type": "code",
   "execution_count": 10,
   "metadata": {
    "scrolled": true
   },
   "outputs": [
    {
     "data": {
      "text/html": [
       "<div>\n",
       "<style scoped>\n",
       "    .dataframe tbody tr th:only-of-type {\n",
       "        vertical-align: middle;\n",
       "    }\n",
       "\n",
       "    .dataframe tbody tr th {\n",
       "        vertical-align: top;\n",
       "    }\n",
       "\n",
       "    .dataframe thead th {\n",
       "        text-align: right;\n",
       "    }\n",
       "</style>\n",
       "<table border=\"1\" class=\"dataframe\">\n",
       "  <thead>\n",
       "    <tr style=\"text-align: right;\">\n",
       "      <th></th>\n",
       "      <th>0</th>\n",
       "      <th>1</th>\n",
       "    </tr>\n",
       "  </thead>\n",
       "  <tbody>\n",
       "    <tr>\n",
       "      <th>0</th>\n",
       "      <td>C00577130</td>\n",
       "      <td>10608.0</td>\n",
       "    </tr>\n",
       "    <tr>\n",
       "      <th>1</th>\n",
       "      <td>C00575795</td>\n",
       "      <td>41894.0</td>\n",
       "    </tr>\n",
       "    <tr>\n",
       "      <th>2</th>\n",
       "      <td>C00580100</td>\n",
       "      <td>209078.0</td>\n",
       "    </tr>\n",
       "  </tbody>\n",
       "</table>\n",
       "</div>"
      ],
      "text/plain": [
       "           0         1\n",
       "0  C00577130   10608.0\n",
       "1  C00575795   41894.0\n",
       "2  C00580100  209078.0"
      ]
     },
     "execution_count": 10,
     "metadata": {},
     "output_type": "execute_result"
    }
   ],
   "source": [
    "problem2_df = pd.read_csv('./2.csv', header=None)\n",
    "problem2_df.head()"
   ]
  },
  {
   "cell_type": "code",
   "execution_count": 40,
   "metadata": {},
   "outputs": [
    {
     "data": {
      "text/html": [
       "<div>\n",
       "<style scoped>\n",
       "    .dataframe tbody tr th:only-of-type {\n",
       "        vertical-align: middle;\n",
       "    }\n",
       "\n",
       "    .dataframe tbody tr th {\n",
       "        vertical-align: top;\n",
       "    }\n",
       "\n",
       "    .dataframe thead th {\n",
       "        text-align: right;\n",
       "    }\n",
       "</style>\n",
       "<table border=\"1\" class=\"dataframe\">\n",
       "  <thead>\n",
       "    <tr style=\"text-align: right;\">\n",
       "      <th></th>\n",
       "      <th>0</th>\n",
       "      <th>1</th>\n",
       "      <th>2</th>\n",
       "      <th>3</th>\n",
       "    </tr>\n",
       "  </thead>\n",
       "  <tbody>\n",
       "    <tr>\n",
       "      <th>0</th>\n",
       "      <td>C00577130</td>\n",
       "      <td>IND</td>\n",
       "      <td>84358086.0</td>\n",
       "      <td>19.058533</td>\n",
       "    </tr>\n",
       "    <tr>\n",
       "      <th>1</th>\n",
       "      <td>C00575795</td>\n",
       "      <td>COM</td>\n",
       "      <td>2500.0</td>\n",
       "      <td>0.000565</td>\n",
       "    </tr>\n",
       "    <tr>\n",
       "      <th>2</th>\n",
       "      <td>C00575795</td>\n",
       "      <td>PAC</td>\n",
       "      <td>10000.0</td>\n",
       "      <td>0.002259</td>\n",
       "    </tr>\n",
       "    <tr>\n",
       "      <th>3</th>\n",
       "      <td>C00577130</td>\n",
       "      <td>ORG</td>\n",
       "      <td>6916.0</td>\n",
       "      <td>0.001562</td>\n",
       "    </tr>\n",
       "    <tr>\n",
       "      <th>4</th>\n",
       "      <td>C00575795</td>\n",
       "      <td>ORG</td>\n",
       "      <td>7177.0</td>\n",
       "      <td>0.001621</td>\n",
       "    </tr>\n",
       "  </tbody>\n",
       "</table>\n",
       "</div>"
      ],
      "text/plain": [
       "           0    1           2          3\n",
       "0  C00577130  IND  84358086.0  19.058533\n",
       "1  C00575795  COM      2500.0   0.000565\n",
       "2  C00575795  PAC     10000.0   0.002259\n",
       "3  C00577130  ORG      6916.0   0.001562\n",
       "4  C00575795  ORG      7177.0   0.001621"
      ]
     },
     "execution_count": 40,
     "metadata": {},
     "output_type": "execute_result"
    }
   ],
   "source": [
    "problem3_df = pd.read_csv('./3.csv', header=None)\n",
    "problem3_df.head()"
   ]
  },
  {
   "cell_type": "code",
   "execution_count": 18,
   "metadata": {},
   "outputs": [
    {
     "data": {
      "text/plain": [
       "<matplotlib.axes._subplots.AxesSubplot at 0x104f14b38>"
      ]
     },
     "execution_count": 18,
     "metadata": {},
     "output_type": "execute_result"
    },
    {
     "data": {
      "image/png": "[encoded data removed]",
      "text/plain": [
       "<Figure size 432x288 with 1 Axes>"
      ]
     },
     "metadata": {
      "needs_background": "light"
     },
     "output_type": "display_data"
    }
   ],
   "source": [
    "problem4_df = pd.read_csv('./4.csv', names=['Campaign', 'Bucket', 'Donations'])\n",
    "problem4_df.head()\n",
    "sns.barplot(x='Bucket', y='Donations', hue='Campaign', data=problem4_df)"
   ]
  }
 ],
 "metadata": {
  "kernelspec": {
   "display_name": "Python 3",
   "language": "python",
   "name": "python3"
  },
  "language_info": {
   "codemirror_mode": {
    "name": "ipython",
    "version": 3
   },
   "file_extension": ".py",
   "mimetype": "text/x-python",
   "name": "python",
   "nbconvert_exporter": "python",
   "pygments_lexer": "ipython3",
   "version": "3.6.5"
  }
 },
 "nbformat": 4,
 "nbformat_minor": 2
}
