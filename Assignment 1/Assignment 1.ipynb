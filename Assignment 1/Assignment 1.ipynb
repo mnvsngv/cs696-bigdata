{
 "cells": [
  {
   "cell_type": "markdown",
   "metadata": {},
   "source": [
    "# CS696 Assignment 1"
   ]
  },
  {
   "cell_type": "markdown",
   "metadata": {},
   "source": [
    "## Imports"
   ]
  },
  {
   "cell_type": "code",
   "execution_count": 1,
   "metadata": {},
   "outputs": [],
   "source": [
    "import unittest"
   ]
  },
  {
   "cell_type": "markdown",
   "metadata": {},
   "source": [
    "## Problems"
   ]
  },
  {
   "cell_type": "markdown",
   "metadata": {},
   "source": [
    "### Question 1: Sum of Multiples of 3 & 5\n",
    "This function returns the sum of all numbers up to 'n' which are multiples of either 3 or 5 but not both."
   ]
  },
  {
   "cell_type": "code",
   "execution_count": 2,
   "metadata": {},
   "outputs": [],
   "source": [
    "def sum_multiples_3_5(n):\n",
    "    return sum([i for i in range(n) if (i%3 == 0 or i%5 == 0) and (i%15 != 0)])"
   ]
  },
  {
   "cell_type": "markdown",
   "metadata": {},
   "source": [
    "### Question 2: Count of Pattern\n",
    "This function returns the number of times a pattern occurs in a string. Overlapping matches are counted as well."
   ]
  },
  {
   "cell_type": "code",
   "execution_count": 3,
   "metadata": {},
   "outputs": [],
   "source": [
    "def pattern_count(text, pattern):\n",
    "    return sum(text[i:].startswith(pattern) for i in range(len(text)))"
   ]
  },
  {
   "cell_type": "markdown",
   "metadata": {},
   "source": [
    "### Question 3: Nth Octaldrome\n",
    "If the octal representation of a number is a palindrome, then it's called an octaldrome. This function returns the nth octaldrome, starting from 1."
   ]
  },
  {
   "cell_type": "code",
   "execution_count": 4,
   "metadata": {},
   "outputs": [],
   "source": [
    "def nth_octaldrome(n):\n",
    "    counter = 0\n",
    "    current_int = 0\n",
    "    while counter <= n:\n",
    "        octal_value = oct(current_int)\n",
    "        octal_value = octal_value[2:]  # strip the '0o' from the start\n",
    "        if octal_value == octal_value[::-1]:\n",
    "            counter += 1\n",
    "        current_int += 1\n",
    "\n",
    "    return current_int - 1"
   ]
  },
  {
   "cell_type": "markdown",
   "metadata": {},
   "source": [
    "### Question 4: Most Frequent Word\n",
    "Given an integer value 'n', this function finds the word(s) of length n that occur most frequently in a given string."
   ]
  },
  {
   "cell_type": "code",
   "execution_count": 5,
   "metadata": {},
   "outputs": [],
   "source": [
    "def most_frequent_word(text, n):\n",
    "    word_counts = {}\n",
    "    for i in range(len(text) - n):\n",
    "        sub_str = text[i:i+n]\n",
    "        if sub_str not in word_counts:\n",
    "            word_counts[sub_str] = 1\n",
    "        else:\n",
    "            word_counts[sub_str] += 1\n",
    "    \n",
    "    max_count = 0\n",
    "    max_words = set([])\n",
    "    for word, count in word_counts.items():\n",
    "        if count > max_count:\n",
    "            max_words = set([])\n",
    "            max_words.add(word)\n",
    "            max_count = count\n",
    "        if count == max_count:\n",
    "            max_words.add(word)\n",
    "    return tuple(max_words)"
   ]
  },
  {
   "cell_type": "markdown",
   "metadata": {},
   "source": [
    "### Question 5: DNA Reverse Complement\n",
    "Given a DNA string, this function generates the complement and reverses it.\n",
    "\n",
    "Complement pairs:\n",
    "* A & T\n",
    "* C & G"
   ]
  },
  {
   "cell_type": "code",
   "execution_count": 62,
   "metadata": {},
   "outputs": [],
   "source": [
    "def reverse_complement(dna_string):\n",
    "    complement = {'A': 'T', 'T': 'A', 'G': 'C', 'C': 'G'}\n",
    "    result = ''\n",
    "    for dna_char in dna_string.upper():\n",
    "        if dna_char not in ('A', 'T', 'G', 'C'): raise ValueError\n",
    "        result =  complement[dna_char] + result\n",
    "    return result"
   ]
  },
  {
   "cell_type": "markdown",
   "metadata": {},
   "source": [
    "### Question 6: GC Content of DNA String\n",
    "For a given DNA string, this function generates how many characters are G or C and returns the percentage as a value between 0 and 1."
   ]
  },
  {
   "cell_type": "code",
   "execution_count": 86,
   "metadata": {},
   "outputs": [],
   "source": [
    "def gc_content(dna_string):\n",
    "    gc_count = dna_string.upper().count('G') + dna_string.upper().count('C')\n",
    "    return gc_count / len(dna_string)"
   ]
  },
  {
   "cell_type": "markdown",
   "metadata": {},
   "source": [
    "### Question 7: Map Values\n",
    "Given an array and a map, this function returns all the values of the map whose keys are present in the array."
   ]
  },
  {
   "cell_type": "code",
   "execution_count": 8,
   "metadata": {},
   "outputs": [],
   "source": [
    "def map_values(value_array, map_dict):\n",
    "    result = []\n",
    "    for key, value in map_dict.items():\n",
    "        if key in value_array:\n",
    "            result.append(value)\n",
    "    return result"
   ]
  },
  {
   "cell_type": "markdown",
   "metadata": {},
   "source": [
    "## Unit Tests\n",
    "Unit tests for all the above functions."
   ]
  },
  {
   "cell_type": "markdown",
   "metadata": {},
   "source": [
    "### Unit Tests: Question 1 (Sum of Multiples of 3 & 5)"
   ]
  },
  {
   "cell_type": "code",
   "execution_count": 70,
   "metadata": {},
   "outputs": [],
   "source": [
    "class TestSumMultiplesOf3And5(unittest.TestCase):\n",
    "    def test_sum_multiples_1(self):\n",
    "        self.assertEqual(sum_multiples_3_5(1), 0)\n",
    "\n",
    "    def test_sum_multiples_5(self):\n",
    "        self.assertEqual(sum_multiples_3_5(5), 3)\n",
    "\n",
    "    def test_sum_multiples_6(self):\n",
    "        self.assertEqual(sum_multiples_3_5(6), 8)\n",
    "        \n",
    "    def test_sum_multiples_20(self):\n",
    "        self.assertEqual(sum_multiples_3_5(20), 63)"
   ]
  },
  {
   "cell_type": "markdown",
   "metadata": {},
   "source": [
    "### Unit Tests: Question 2 (Pattern Count)"
   ]
  },
  {
   "cell_type": "code",
   "execution_count": 18,
   "metadata": {},
   "outputs": [],
   "source": [
    "class TestPatternCount(unittest.TestCase):\n",
    "    def test_pattern_count_aabb(self):\n",
    "        self.assertEqual(pattern_count(\"aabb\", \"ab\"), 1)\n",
    "    \n",
    "    def test_pattern_count_abababa(self):\n",
    "        self.assertEqual(pattern_count(\"abababa\", \"aba\"), 3)\n",
    "        \n",
    "    def test_pattern_count_aaaa(self):\n",
    "        self.assertEqual(pattern_count(\"aaaaa\", \"aa\"), 4)\n",
    "    \n",
    "    def test_pattern_count_Abcde(self):\n",
    "        self.assertEqual(pattern_count(\"Abcde\", \"abc\"), 0)"
   ]
  },
  {
   "cell_type": "markdown",
   "metadata": {},
   "source": [
    "### Unit Tests: Question 3 (Octaldrome)"
   ]
  },
  {
   "cell_type": "code",
   "execution_count": 71,
   "metadata": {},
   "outputs": [],
   "source": [
    "class TestOctaldrome(unittest.TestCase):\n",
    "    def test_nth_octaldrome_0(self):\n",
    "        self.assertEqual(nth_octaldrome(0), 0)\n",
    "        \n",
    "    def test_nth_octaldrome_1(self):\n",
    "        self.assertEqual(nth_octaldrome(1), 1)\n",
    "\n",
    "    def test_nth_octaldrome_9(self):\n",
    "        self.assertEqual(nth_octaldrome(9), 18)"
   ]
  },
  {
   "cell_type": "markdown",
   "metadata": {},
   "source": [
    "### Unit Tests: Question 4 (Most Frequent Word)"
   ]
  },
  {
   "cell_type": "code",
   "execution_count": 66,
   "metadata": {},
   "outputs": [],
   "source": [
    "class TestMostFrequentWord(unittest.TestCase):\n",
    "    def test_most_frequent_word_0(self):\n",
    "        self.assertEqual(most_frequent_word(\"TCGAAGCTAGACGCTAGTAGCTAGTGTGCA\", 0), (\"\",))\n",
    "        \n",
    "    def test_most_frequent_word_1(self):\n",
    "        self.assertCountEqual(most_frequent_word(\"TCGAAGCTAGACGCTAGTAGCTAGTGTGCA\", 1), (\"G\",))\n",
    "        \n",
    "    def test_most_frequent_word_2(self):\n",
    "        self.assertCountEqual(most_frequent_word(\"TCGAAGCTAGACGCTAGTAGCTAGTGTGCA\", 2), (\"AG\",))\n",
    "        \n",
    "    def test_most_frequent_word_3(self):\n",
    "        self.assertCountEqual(most_frequent_word(\"TCGAAGCTAGACGCTAGTAGCTAGTGTGCA\", 3), (\"TAG\",))\n",
    "\n",
    "    def test_most_frequent_word_4(self):\n",
    "        self.assertCountEqual(most_frequent_word(\"TCGAAGCTAGACGCTAGTAGCTAGTGTGCA\", 4), (\"CTAG\", \"GCTA\"))\n",
    "\n",
    "    def test_most_frequent_word_string(self):\n",
    "        self.assertCountEqual(most_frequent_word(\"This string has the value 'th' repeated thrice.\", 2), (\"th\",))"
   ]
  },
  {
   "cell_type": "markdown",
   "metadata": {},
   "source": [
    "### Unit Tests: Question 5 (Reverse Complement)"
   ]
  },
  {
   "cell_type": "code",
   "execution_count": 64,
   "metadata": {},
   "outputs": [],
   "source": [
    "class TestReverseComplement(unittest.TestCase):\n",
    "    def test_reverse_complement_gtca_upper(self):\n",
    "        self.assertEqual(reverse_complement(\"GTCA\"), \"TGAC\")\n",
    "        \n",
    "    def test_reverse_complement_gtca_lower(self):\n",
    "        self.assertEqual(reverse_complement(\"gtca\"), \"TGAC\")\n",
    "        \n",
    "    def test_reverse_complement(self):\n",
    "        self.assertRaises(ValueError, reverse_complement, \"xyz\")"
   ]
  },
  {
   "cell_type": "markdown",
   "metadata": {},
   "source": [
    "### Unit Tests: Question 6 (GC Content)"
   ]
  },
  {
   "cell_type": "code",
   "execution_count": 84,
   "metadata": {},
   "outputs": [],
   "source": [
    "class TestGCContent(unittest.TestCase):\n",
    "    def test_gc_content_upper(self):\n",
    "        self.assertEqual(gc_content(\"AGCTATAG\"), 0.375)\n",
    "        \n",
    "    def test_gc_content_lower(self):\n",
    "        self.assertEqual(gc_content(\"agctatag\"), 0.375)\n",
    "\n",
    "    def test_gc_content_zero(self):\n",
    "        self.assertEqual(gc_content(\"atattttaataaataAATA\"), 0.0)"
   ]
  },
  {
   "cell_type": "markdown",
   "metadata": {},
   "source": [
    "### Unit Tests: Question 7 (Map Values)"
   ]
  },
  {
   "cell_type": "code",
   "execution_count": 76,
   "metadata": {},
   "outputs": [],
   "source": [
    "class TestMapValues(unittest.TestCase):\n",
    "    def test_map_values_simple(self):\n",
    "        self.assertEqual(map_values([\"Tom\", \"Fred\", \"Harry\"], {\"Tom\": 3, \"Dick\": 4, \"Harry\": 5}), [3, 5])\n",
    "        \n",
    "    def test_map_values_empty(self):\n",
    "        self.assertEqual(map_values([\"Tom\", \"Fred\", \"Harry\"], {\"Tommy\": 3, \"Dick\": 4, \"Harriet\": 5}), [])"
   ]
  },
  {
   "cell_type": "code",
   "execution_count": 87,
   "metadata": {},
   "outputs": [
    {
     "name": "stderr",
     "output_type": "stream",
     "text": [
      "test_gc_content_lower (__main__.TestGCContent) ... ok\n",
      "test_gc_content_upper (__main__.TestGCContent) ... ok\n",
      "test_gc_content_zero (__main__.TestGCContent) ... ok\n",
      "test_map_values_empty (__main__.TestMapValues) ... ok\n",
      "test_map_values_simple (__main__.TestMapValues) ... ok\n",
      "test_most_frequent_word_0 (__main__.TestMostFrequentWord) ... ok\n",
      "test_most_frequent_word_1 (__main__.TestMostFrequentWord) ... ok\n",
      "test_most_frequent_word_2 (__main__.TestMostFrequentWord) ... ok\n",
      "test_most_frequent_word_3 (__main__.TestMostFrequentWord) ... ok\n",
      "test_most_frequent_word_4 (__main__.TestMostFrequentWord) ... ok\n",
      "test_most_frequent_word_string (__main__.TestMostFrequentWord) ... ok\n",
      "test_gc_content (__main__.TestNotebook) ... ok\n",
      "test_map_values (__main__.TestNotebook) ... ok\n",
      "test_most_frequent_word_1 (__main__.TestNotebook) ... ok\n",
      "test_most_frequent_word_2 (__main__.TestNotebook) ... ok\n",
      "test_most_frequent_word_3 (__main__.TestNotebook) ... ok\n",
      "test_nth_octaldrome (__main__.TestNotebook) ... ok\n",
      "test_pattern_count_Abcde (__main__.TestNotebook) ... ok\n",
      "test_pattern_count_aaaa (__main__.TestNotebook) ... ok\n",
      "test_pattern_count_aabb (__main__.TestNotebook) ... ok\n",
      "test_pattern_count_abababa (__main__.TestNotebook) ... ok\n",
      "test_reverse_complement (__main__.TestNotebook) ... ok\n",
      "test_sum_multiples_1 (__main__.TestNotebook) ... ok\n",
      "test_sum_multiples_20 (__main__.TestNotebook) ... ok\n",
      "test_sum_multiples_5 (__main__.TestNotebook) ... ok\n",
      "test_sum_multiples_6 (__main__.TestNotebook) ... ok\n",
      "test_nth_octaldrome_0 (__main__.TestOctaldrome) ... ok\n",
      "test_nth_octaldrome_1 (__main__.TestOctaldrome) ... ok\n",
      "test_nth_octaldrome_9 (__main__.TestOctaldrome) ... ok\n",
      "test_nth_octaldrome (__main__.TestPatternCount) ... ok\n",
      "test_reverse_complement (__main__.TestReverseComplement) ... ok\n",
      "test_reverse_complement_gtca_lower (__main__.TestReverseComplement) ... ok\n",
      "test_reverse_complement_gtca_upper (__main__.TestReverseComplement) ... ok\n",
      "test_sum_multiples_1 (__main__.TestSumMultiplesOf3And5) ... ok\n",
      "test_sum_multiples_20 (__main__.TestSumMultiplesOf3And5) ... ok\n",
      "test_sum_multiples_5 (__main__.TestSumMultiplesOf3And5) ... ok\n",
      "test_sum_multiples_6 (__main__.TestSumMultiplesOf3And5) ... ok\n",
      "\n",
      "----------------------------------------------------------------------\n",
      "Ran 37 tests in 0.094s\n",
      "\n",
      "OK\n"
     ]
    },
    {
     "data": {
      "text/plain": [
       "<unittest.main.TestProgram at 0x108fd49b0>"
      ]
     },
     "execution_count": 87,
     "metadata": {},
     "output_type": "execute_result"
    }
   ],
   "source": [
    "unittest.main(argv=[''], verbosity=2, exit=False)"
   ]
  }
 ],
 "metadata": {
  "kernelspec": {
   "display_name": "Python 3",
   "language": "python",
   "name": "python3"
  },
  "language_info": {
   "codemirror_mode": {
    "name": "ipython",
    "version": 3
   },
   "file_extension": ".py",
   "mimetype": "text/x-python",
   "name": "python",
   "nbconvert_exporter": "python",
   "pygments_lexer": "ipython3",
   "version": "3.6.5"
  }
 },
 "nbformat": 4,
 "nbformat_minor": 2
}
