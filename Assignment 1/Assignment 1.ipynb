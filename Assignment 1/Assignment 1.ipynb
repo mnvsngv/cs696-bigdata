{
 "cells": [
  {
   "cell_type": "markdown",
   "metadata": {},
   "source": [
    "# CS696 Assignment 1"
   ]
  },
  {
   "cell_type": "markdown",
   "metadata": {},
   "source": [
    "## Imports"
   ]
  },
  {
   "cell_type": "code",
   "execution_count": 58,
   "metadata": {},
   "outputs": [],
   "source": [
    "import unittest\n",
    "import re"
   ]
  },
  {
   "cell_type": "markdown",
   "metadata": {},
   "source": [
    "## Problems"
   ]
  },
  {
   "cell_type": "markdown",
   "metadata": {},
   "source": [
    "### Sum of Multiples of 3 & 5\n",
    "This function returns the sum of all numbers up to 'n' which are multiples of either 3 or 5 but not both."
   ]
  },
  {
   "cell_type": "code",
   "execution_count": 59,
   "metadata": {},
   "outputs": [],
   "source": [
    "def sum_multiples_3_5(n):\n",
    "    return sum([i for i in range(n) if (i%3 == 0 or i%5 == 0) and (i%15 != 0)])"
   ]
  },
  {
   "cell_type": "markdown",
   "metadata": {},
   "source": [
    "### Count of Pattern\n",
    "This function returns the number of times a pattern occurs in a string. Overlapping matches are counted as well."
   ]
  },
  {
   "cell_type": "code",
   "execution_count": 62,
   "metadata": {},
   "outputs": [],
   "source": [
    "def pattern_count(text, pattern):\n",
    "    return sum(text[i:].startswith(pattern) for i in range(len(text)))"
   ]
  },
  {
   "cell_type": "markdown",
   "metadata": {},
   "source": [
    "### Nth Octaldrome\n",
    "If the octal representation of a number is a palindrome, then it's called an octaldrome. This function returns the nth octaldrome, starting from 1."
   ]
  },
  {
   "cell_type": "code",
   "execution_count": 80,
   "metadata": {},
   "outputs": [],
   "source": [
    "def nth_octaldrome(n):\n",
    "    counter = 0\n",
    "    current_int = 0\n",
    "    while counter <= n:\n",
    "        octal_value = oct(current_int)\n",
    "        octal_value = octal_value[2:]  # strip the '0o' from the start\n",
    "        if octal_value == octal_value[::-1]:\n",
    "            counter += 1\n",
    "        current_int += 1\n",
    "\n",
    "    return current_int - 1"
   ]
  },
  {
   "cell_type": "markdown",
   "metadata": {},
   "source": [
    "## Unit Tests\n",
    "Unit tests for all the above functions."
   ]
  },
  {
   "cell_type": "code",
   "execution_count": 81,
   "metadata": {},
   "outputs": [
    {
     "name": "stderr",
     "output_type": "stream",
     "text": [
      "test_nth_octaldrome (__main__.TestNotebook) ... ok\n",
      "test_pattern_count (__main__.TestNotebook) ... ok\n",
      "test_sum_multiples_20 (__main__.TestNotebook) ... ok\n",
      "\n",
      "----------------------------------------------------------------------\n",
      "Ran 3 tests in 0.002s\n",
      "\n",
      "OK\n"
     ]
    },
    {
     "data": {
      "text/plain": [
       "<unittest.main.TestProgram at 0x2adf19f70b8>"
      ]
     },
     "execution_count": 81,
     "metadata": {},
     "output_type": "execute_result"
    }
   ],
   "source": [
    "class TestNotebook(unittest.TestCase):\n",
    "\n",
    "    def test_sum_multiples_20(self):\n",
    "        self.assertEqual(sum_multiples_3_5(20), 63)\n",
    "        \n",
    "    def test_pattern_count(self):\n",
    "        self.assertEqual(pattern_count(\"aabb\", \"ab\"), 1)\n",
    "        self.assertEqual(pattern_count(\"abababa\", \"aba\"), 3)\n",
    "        self.assertEqual(pattern_count(\"aaaaa\", \"aa\"), 4)\n",
    "        self.assertEqual(pattern_count(\"Abcde\", \"abc\"), 0)\n",
    "        \n",
    "    def test_nth_octaldrome(self):\n",
    "        self.assertEqual(nth_octaldrome(1), 1)\n",
    "        self.assertEqual(nth_octaldrome(9), 18)\n",
    "        \n",
    "\n",
    "unittest.main(argv=[''], verbosity=2, exit=False)"
   ]
  }
 ],
 "metadata": {
  "kernelspec": {
   "display_name": "Python 3",
   "language": "python",
   "name": "python3"
  },
  "language_info": {
   "codemirror_mode": {
    "name": "ipython",
    "version": 3
   },
   "file_extension": ".py",
   "mimetype": "text/x-python",
   "name": "python",
   "nbconvert_exporter": "python",
   "pygments_lexer": "ipython3",
   "version": "3.6.8"
  }
 },
 "nbformat": 4,
 "nbformat_minor": 2
}
